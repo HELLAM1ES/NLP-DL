{
 "cells": [
  {
   "cell_type": "markdown",
   "id": "QrHfnJ8vuClN",
   "metadata": {
    "id": "QrHfnJ8vuClN"
   },
   "source": [
    "# Preprocessing"
   ]
  },
  {
   "cell_type": "code",
   "execution_count": null,
   "id": "284f68a2",
   "metadata": {},
   "outputs": [],
   "source": [
    "import pandas as pd\n",
    "import re\n",
    "import spacy"
   ]
  },
  {
   "cell_type": "code",
   "execution_count": null,
   "id": "004aad0f",
   "metadata": {},
   "outputs": [],
   "source": [
    "import nltk\n",
    "import os\n",
    "\n",
    "# Utilise le répertoire de l'utilisateur (ex: /Users/ton_nom/nltk_data)\n",
    "nltk_path = os.path.join(os.path.expanduser('~'), 'nltk_data')\n",
    "\n",
    "# Téléchargement des données\n",
    "nltk.download('punkt', download_dir=nltk_path)\n",
    "nltk.download('stopwords', download_dir=nltk_path)\n",
    "nltk.download('wordnet', download_dir=nltk_path)\n",
    "nltk.download('omw-1.4', download_dir=nltk_path)\n",
    "\n",
    "# Optionnel : pour que nltk sache où chercher ces ressources\n",
    "nltk.data.path.append(nltk_path)"
   ]
  },
  {
   "cell_type": "code",
   "execution_count": null,
   "id": "1b291bc2",
   "metadata": {},
   "outputs": [],
   "source": [
    "# Chargement du modèle spaCy\n",
    "nlp = spacy.load(\"en_core_web_sm\")"
   ]
  },
  {
   "cell_type": "code",
   "execution_count": null,
   "id": "c64a4800",
   "metadata": {},
   "outputs": [],
   "source": [
    "# Chargement du dataset brut\n",
    "file_path = \"./data/dataset.csv\"\n",
    "df = pd.read_csv(file_path)\n",
    "df['humor'] = df['humor'].astype(bool)"
   ]
  },
  {
   "cell_type": "code",
   "execution_count": null,
   "id": "5f96a13f",
   "metadata": {},
   "outputs": [],
   "source": [
    "# Nettoyage de base\n",
    "def clean_text(text):\n",
    "    text = str(text).lower()\n",
    "    text = re.sub(r'http\\S+|www\\S+', '', text)\n",
    "    text = re.sub(r'[^a-z\\s]', '', text)\n",
    "    return text\n",
    "\n",
    "df['text_clean'] = df['text'].apply(clean_text)"
   ]
  },
  {
   "cell_type": "code",
   "execution_count": null,
   "id": "9d28ba4c",
   "metadata": {},
   "outputs": [],
   "source": [
    "import nltk\n",
    "from nltk.corpus import stopwords\n",
    "from nltk.stem import WordNetLemmatizer\n",
    "\n",
    "stop_words = set(stopwords.words('english'))\n",
    "lemmatizer = WordNetLemmatizer()"
   ]
  },
  {
   "cell_type": "code",
   "execution_count": null,
   "id": "199eb882",
   "metadata": {},
   "outputs": [],
   "source": [
    "nlp = spacy.load(\"en_core_web_sm\")\n",
    "\n",
    "def preprocess_text_spacy(text):\n",
    "    doc = nlp(text)\n",
    "    tokens = [\n",
    "        token.lemma_.lower()\n",
    "        for token in doc\n",
    "        if not token.is_stop and not token.is_punct and token.is_alpha\n",
    "    ]\n",
    "    return \" \".join(tokens)"
   ]
  },
  {
   "cell_type": "code",
   "execution_count": null,
   "id": "aff0343f",
   "metadata": {},
   "outputs": [],
   "source": [
    "from tqdm.notebook import tqdm\n",
    "tqdm.pandas()\n",
    "\n",
    "df['text_processed'] = df['text_clean'].progress_apply(preprocess_text_spacy)"
   ]
  },
  {
   "cell_type": "code",
   "execution_count": null,
   "id": "f447180c",
   "metadata": {},
   "outputs": [],
   "source": [
    "# Calcul de la longueur des textes\n",
    "df['text_length'] = df['text'].apply(lambda x: len(str(x).split()))\n",
    "\n",
    "assert 'text' in df.columns, \"Colonne 'text' manquante.\"\n",
    "assert 'humor' in df.columns, \" Colonne 'humor' manquante.\"\n",
    "assert pd.api.types.is_bool_dtype(df['humor']), \"Colonne 'humor' n'est pas booléenne.\"\n",
    "assert 'text_clean' in df.columns, \"Colonne 'text_clean' manquante.\"\n",
    "assert df['text_clean'].str.len().gt(0).all(), \"Certaines lignes de 'text_clean' sont vides.\"\n",
    "assert 'text_length' in df.columns, \"Colonne 'text_length' manquante.\"\n",
    "assert df['text_length'].gt(0).all(), \"Certaines longueurs de texte sont nulles.\"\n",
    "\n",
    "print(\" Toutes les étapes principales du EDA sont validées avec succès ! \")"
   ]
  },
  {
   "cell_type": "code",
   "execution_count": null,
   "id": "fcd3cf6f",
   "metadata": {},
   "outputs": [],
   "source": [
    "# Sauvegarde du dataset nettoyé\n",
    "\n",
    "output_path = \"data/clean_dataset.csv\"\n",
    "df.to_csv(output_path, index=False)\n",
    "\n",
    "print(f\" Dataset nettoyé sauvegardé dans : {output_path}\")"
   ]
  }
 ],
 "metadata": {
  "language_info": {
   "name": "python"
  }
 },
 "nbformat": 4,
 "nbformat_minor": 5
}
