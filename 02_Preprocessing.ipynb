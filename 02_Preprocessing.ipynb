{
 "cells": [
  {
   "cell_type": "code",
   "execution_count": 15,
   "id": "284f68a2",
   "metadata": {},
   "outputs": [],
   "source": [
    "import pandas as pd\n",
    "import re\n",
    "import spacy\n"
   ]
  },
  {
   "cell_type": "code",
   "execution_count": 23,
   "id": "004aad0f",
   "metadata": {},
   "outputs": [
    {
     "name": "stderr",
     "output_type": "stream",
     "text": [
      "[nltk_data] Downloading package punkt to\n",
      "[nltk_data]     C:\\Users\\HellaBOUHADDA\\AppData\\Roaming\\nltk_data...\n",
      "[nltk_data]   Package punkt is already up-to-date!\n",
      "[nltk_data] Downloading package stopwords to\n",
      "[nltk_data]     C:\\Users\\HellaBOUHADDA\\AppData\\Roaming\\nltk_data...\n",
      "[nltk_data]   Package stopwords is already up-to-date!\n",
      "[nltk_data] Downloading package wordnet to\n",
      "[nltk_data]     C:\\Users\\HellaBOUHADDA\\AppData\\Roaming\\nltk_data...\n",
      "[nltk_data]   Package wordnet is already up-to-date!\n",
      "[nltk_data] Downloading package omw-1.4 to\n",
      "[nltk_data]     C:\\Users\\HellaBOUHADDA\\AppData\\Roaming\\nltk_data...\n"
     ]
    },
    {
     "data": {
      "text/plain": [
       "True"
      ]
     },
     "execution_count": 23,
     "metadata": {},
     "output_type": "execute_result"
    }
   ],
   "source": [
    "import nltk\n",
    "import os\n",
    "\n",
    "# Forcer un répertoire spécifique pour télécharger les données\n",
    "nltk_path = os.path.join(os.environ['APPDATA'], 'nltk_data')\n",
    "\n",
    "# Télécharger les ressources nécessaires directement dans ce dossier\n",
    "nltk.download('punkt', download_dir=nltk_path)\n",
    "nltk.download('stopwords', download_dir=nltk_path)\n",
    "nltk.download('wordnet', download_dir=nltk_path)\n",
    "nltk.download('omw-1.4', download_dir=nltk_path)\n"
   ]
  },
  {
   "cell_type": "code",
   "execution_count": 3,
   "id": "1b291bc2",
   "metadata": {},
   "outputs": [],
   "source": [
    "# Chargement du modèle spaCy\n",
    "nlp = spacy.load(\"en_core_web_sm\")"
   ]
  },
  {
   "cell_type": "code",
   "execution_count": null,
   "id": "e0ca463f",
   "metadata": {},
   "outputs": [],
   "source": []
  },
  {
   "cell_type": "code",
   "execution_count": 4,
   "id": "c64a4800",
   "metadata": {},
   "outputs": [],
   "source": [
    "# Chargement du dataset brut\n",
    "file_path = \"data/dataset.csv\"\n",
    "df = pd.read_csv(file_path)\n",
    "df['humor'] = df['humor'].astype(bool)"
   ]
  },
  {
   "cell_type": "code",
   "execution_count": 5,
   "id": "5f96a13f",
   "metadata": {},
   "outputs": [],
   "source": [
    "# Nettoyage de base\n",
    "def clean_text(text):\n",
    "    text = str(text).lower()\n",
    "    text = re.sub(r'http\\S+|www\\S+', '', text)\n",
    "    text = re.sub(r'[^a-z\\s]', '', text)\n",
    "    return text\n",
    "\n",
    "df['text_clean'] = df['text'].apply(clean_text)"
   ]
  },
  {
   "cell_type": "code",
   "execution_count": 6,
   "id": "9d28ba4c",
   "metadata": {},
   "outputs": [],
   "source": [
    "# Suppression des stopwords + lemmatisation\n",
    "stop_words = set(stopwords.words('english'))\n",
    "lemmatizer = WordNetLemmatizer()\n"
   ]
  },
  {
   "cell_type": "code",
   "execution_count": 29,
   "id": "199eb882",
   "metadata": {},
   "outputs": [],
   "source": [
    "import spacy\n",
    "nlp = spacy.load(\"en_core_web_sm\")\n",
    "\n",
    "def preprocess_text_spacy(text):\n",
    "    doc = nlp(text)\n",
    "    tokens = [\n",
    "        token.lemma_.lower()\n",
    "        for token in doc\n",
    "        if not token.is_stop and not token.is_punct and token.is_alpha\n",
    "    ]\n",
    "    return \" \".join(tokens)\n"
   ]
  },
  {
   "cell_type": "code",
   "execution_count": 31,
   "id": "aff0343f",
   "metadata": {},
   "outputs": [
    {
     "data": {
      "application/vnd.jupyter.widget-view+json": {
       "model_id": "28192c1f09cc4016a336cd871de30f40",
       "version_major": 2,
       "version_minor": 0
      },
      "text/plain": [
       "  0%|          | 0/200000 [00:00<?, ?it/s]"
      ]
     },
     "metadata": {},
     "output_type": "display_data"
    }
   ],
   "source": [
    "from tqdm.notebook import tqdm\n",
    "tqdm.pandas()\n",
    "\n",
    "df['text_processed'] = df['text_clean'].progress_apply(preprocess_text_spacy)\n"
   ]
  },
  {
   "cell_type": "code",
   "execution_count": null,
   "id": "f447180c",
   "metadata": {},
   "outputs": [
    {
     "name": "stdout",
     "output_type": "stream",
     "text": [
      "✅ Toutes les étapes principales du EDA sont validées avec succès ! 💯\n"
     ]
    }
   ],
   "source": [
    "import pandas as pd\n",
    "\n",
    "# Calcul de la longueur des textes (en nombre de mots)\n",
    "df['text_length'] = df['text'].apply(lambda x: len(str(x).split()))\n",
    "\n",
    "\n",
    "# Assure-toi que ce bloc est à exécuter à la fin du notebook EDA\n",
    "assert 'text' in df.columns, \"Colonne 'text' manquante.\"\n",
    "assert 'humor' in df.columns, \" Colonne 'humor' manquante.\"\n",
    "assert pd.api.types.is_bool_dtype(df['humor']), \"Colonne 'humor' n'est pas booléenne.\"\n",
    "assert 'text_clean' in df.columns, \"Colonne 'text_clean' manquante.\"\n",
    "assert df['text_clean'].str.len().gt(0).all(), \"Certaines lignes de 'text_clean' sont vides.\"\n",
    "assert 'text_length' in df.columns, \"Colonne 'text_length' manquante.\"\n",
    "assert df['text_length'].gt(0).all(), \"Certaines longueurs de texte sont nulles.\"\n",
    "\n",
    "print(\" Toutes les étapes principales du EDA sont validées avec succès ! 💯\")\n"
   ]
  },
  {
   "cell_type": "code",
   "execution_count": 35,
   "id": "fcd3cf6f",
   "metadata": {},
   "outputs": [
    {
     "name": "stdout",
     "output_type": "stream",
     "text": [
      " Dataset nettoyé sauvegardé dans : data/clean_dataset.csv\n"
     ]
    }
   ],
   "source": [
    "# Sauvegarde du dataset nettoyé\n",
    "output_path = \"data/clean_dataset.csv\"\n",
    "df.to_csv(output_path, index=False)\n",
    "\n",
    "print(f\" Dataset nettoyé sauvegardé dans : {output_path}\")\n"
   ]
  }
 ],
 "metadata": {
  "kernelspec": {
   "display_name": "NLP_env",
   "language": "python",
   "name": "python3"
  },
  "language_info": {
   "codemirror_mode": {
    "name": "ipython",
    "version": 3
   },
   "file_extension": ".py",
   "mimetype": "text/x-python",
   "name": "python",
   "nbconvert_exporter": "python",
   "pygments_lexer": "ipython3",
   "version": "3.11.9"
  }
 },
 "nbformat": 4,
 "nbformat_minor": 5
}
