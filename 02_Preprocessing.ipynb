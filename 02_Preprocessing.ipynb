{
 "cells": [
  {
   "cell_type": "markdown",
   "id": "QrHfnJ8vuClN",
   "metadata": {
    "id": "QrHfnJ8vuClN"
   },
   "source": [
    "# Preprocessing"
   ]
  },
  {
   "cell_type": "code",
   "execution_count": 36,
   "id": "284f68a2",
   "metadata": {
    "executionInfo": {
     "elapsed": 9175,
     "status": "ok",
     "timestamp": 1745535428772,
     "user": {
      "displayName": "Lala",
      "userId": "01701542965389225389"
     },
     "user_tz": -120
    },
    "id": "284f68a2"
   },
   "outputs": [],
   "source": [
    "import pandas as pd\n",
    "import re\n",
    "import spacy"
   ]
  },
  {
   "cell_type": "code",
   "execution_count": 37,
   "id": "004aad0f",
   "metadata": {
    "colab": {
     "base_uri": "https://localhost:8080/"
    },
    "executionInfo": {
     "elapsed": 2684,
     "status": "ok",
     "timestamp": 1745535433520,
     "user": {
      "displayName": "Lala",
      "userId": "01701542965389225389"
     },
     "user_tz": -120
    },
    "id": "004aad0f",
    "outputId": "707acdf2-36e2-4b46-dedd-3ca58f03d20f"
   },
   "outputs": [
    {
     "name": "stderr",
     "output_type": "stream",
     "text": [
      "[nltk_data] Downloading package punkt to\n",
      "[nltk_data]     C:\\Users\\HellaBOUHADDA\\nltk_data...\n",
      "[nltk_data]   Unzipping tokenizers\\punkt.zip.\n",
      "[nltk_data] Downloading package stopwords to\n",
      "[nltk_data]     C:\\Users\\HellaBOUHADDA\\nltk_data...\n",
      "[nltk_data]   Unzipping corpora\\stopwords.zip.\n",
      "[nltk_data] Downloading package wordnet to\n",
      "[nltk_data]     C:\\Users\\HellaBOUHADDA\\nltk_data...\n",
      "[nltk_data] Downloading package omw-1.4 to\n",
      "[nltk_data]     C:\\Users\\HellaBOUHADDA\\nltk_data...\n"
     ]
    },
    {
     "ename": "AttributeError",
     "evalue": "module 'nltk.data' has no attribute 'path'",
     "output_type": "error",
     "traceback": [
      "\u001b[31m---------------------------------------------------------------------------\u001b[39m",
      "\u001b[31mAttributeError\u001b[39m                            Traceback (most recent call last)",
      "\u001b[36mCell\u001b[39m\u001b[36m \u001b[39m\u001b[32mIn[37]\u001b[39m\u001b[32m, line 14\u001b[39m\n\u001b[32m     11\u001b[39m nltk.download(\u001b[33m'\u001b[39m\u001b[33momw-1.4\u001b[39m\u001b[33m'\u001b[39m, download_dir=nltk_path)\n\u001b[32m     13\u001b[39m \u001b[38;5;66;03m# Optionnel : pour que nltk sache où chercher ces ressources\u001b[39;00m\n\u001b[32m---> \u001b[39m\u001b[32m14\u001b[39m \u001b[43mnltk\u001b[49m\u001b[43m.\u001b[49m\u001b[43mdata\u001b[49m\u001b[43m.\u001b[49m\u001b[43mpath\u001b[49m.append(nltk_path)\n",
      "\u001b[31mAttributeError\u001b[39m: module 'nltk.data' has no attribute 'path'"
     ]
    }
   ],
   "source": [
    "import nltk\n",
    "import os\n",
    "\n",
    "# Utilise le répertoire de l'utilisateur (ex: /Users/ton_nom/nltk_data)\n",
    "nltk_path = os.path.join(os.path.expanduser('~'), 'nltk_data')\n",
    "\n",
    "# Téléchargement des données\n",
    "nltk.download('punkt', download_dir=nltk_path)\n",
    "nltk.download('stopwords', download_dir=nltk_path)\n",
    "nltk.download('wordnet', download_dir=nltk_path)\n",
    "nltk.download('omw-1.4', download_dir=nltk_path)\n",
    "\n",
    "# Optionnel : pour que nltk sache où chercher ces ressources\n",
    "nltk.data.path.append(nltk_path)"
   ]
  },
  {
   "cell_type": "code",
   "execution_count": null,
   "id": "1b291bc2",
   "metadata": {
    "executionInfo": {
     "elapsed": 1156,
     "status": "ok",
     "timestamp": 1745535438201,
     "user": {
      "displayName": "Lala",
      "userId": "01701542965389225389"
     },
     "user_tz": -120
    },
    "id": "1b291bc2"
   },
   "outputs": [],
   "source": [
    "# Chargement du modèle spaCy\n",
    "nlp = spacy.load(\"en_core_web_sm\")"
   ]
  },
  {
   "cell_type": "code",
   "execution_count": 38,
   "id": "c64a4800",
   "metadata": {
    "executionInfo": {
     "elapsed": 326,
     "status": "ok",
     "timestamp": 1745535445368,
     "user": {
      "displayName": "Lala",
      "userId": "01701542965389225389"
     },
     "user_tz": -120
    },
    "id": "c64a4800"
   },
   "outputs": [],
   "source": [
    "# Chargement du dataset brut\n",
    "file_path = \"./data/dataset.csv\"\n",
    "df = pd.read_csv(file_path)\n",
    "df['humor'] = df['humor'].astype(bool)"
   ]
  },
  {
   "cell_type": "code",
   "execution_count": 39,
   "id": "5f96a13f",
   "metadata": {
    "executionInfo": {
     "elapsed": 1277,
     "status": "ok",
     "timestamp": 1745535449976,
     "user": {
      "displayName": "Lala",
      "userId": "01701542965389225389"
     },
     "user_tz": -120
    },
    "id": "5f96a13f"
   },
   "outputs": [],
   "source": [
    "# Nettoyage de base\n",
    "def clean_text(text):\n",
    "    text = str(text).lower()\n",
    "    text = re.sub(r'http\\S+|www\\S+', '', text)\n",
    "    text = re.sub(r'[^a-z\\s]', '', text)\n",
    "    return text\n",
    "\n",
    "df['text_clean'] = df['text'].apply(clean_text)"
   ]
  },
  {
   "cell_type": "code",
   "execution_count": 40,
   "id": "9d28ba4c",
   "metadata": {
    "executionInfo": {
     "elapsed": 3,
     "status": "ok",
     "timestamp": 1745535451805,
     "user": {
      "displayName": "Lala",
      "userId": "01701542965389225389"
     },
     "user_tz": -120
    },
    "id": "9d28ba4c"
   },
   "outputs": [],
   "source": [
    "import nltk\n",
    "from nltk.corpus import stopwords\n",
    "from nltk.stem import WordNetLemmatizer\n",
    "\n",
    "stop_words = set(stopwords.words('english'))\n",
    "lemmatizer = WordNetLemmatizer()"
   ]
  },
  {
   "cell_type": "code",
   "execution_count": 41,
   "id": "199eb882",
   "metadata": {
    "executionInfo": {
     "elapsed": 767,
     "status": "ok",
     "timestamp": 1745535454379,
     "user": {
      "displayName": "Lala",
      "userId": "01701542965389225389"
     },
     "user_tz": -120
    },
    "id": "199eb882"
   },
   "outputs": [],
   "source": [
    "nlp = spacy.load(\"en_core_web_sm\")\n",
    "\n",
    "def preprocess_text_spacy(text):\n",
    "    doc = nlp(text)\n",
    "    tokens = [\n",
    "        token.lemma_.lower()\n",
    "        for token in doc\n",
    "        if not token.is_stop and not token.is_punct and token.is_alpha\n",
    "    ]\n",
    "    return \" \".join(tokens)"
   ]
  },
  {
   "cell_type": "code",
   "execution_count": 42,
   "id": "aff0343f",
   "metadata": {
    "colab": {
     "base_uri": "https://localhost:8080/",
     "height": 49,
     "referenced_widgets": [
      "6026c7a8d6c0411b928b38a16825a16a",
      "7db468980ea54404afc53eb44ea9655d",
      "8a2b311c5d274487969df84aed66268c",
      "170db8bc8f374832b0d406aebf44d4da",
      "763ff445a3e04c248eb4a357367c1111",
      "70774986d90c4f76b1921a0bd01b1782",
      "f5e2da8581984c0ba98b3cddf73f8060",
      "e48fa1db2e3e4f0fa6163103eb8c478c",
      "a13aff18d7c34c78bf6b72c843769c54",
      "94e6be853606479aad1cd32feeed0b70",
      "eebdbf209f4e43c5bda552ab1f30377a"
     ]
    },
    "id": "aff0343f",
    "outputId": "a9153842-839a-4974-db3a-792dd8b6c04e"
   },
   "outputs": [
    {
     "data": {
      "application/vnd.jupyter.widget-view+json": {
       "model_id": "024a279c842d4b6f821cd8f9cbe2be9f",
       "version_major": 2,
       "version_minor": 0
      },
      "text/plain": [
       "  0%|          | 0/200000 [00:00<?, ?it/s]"
      ]
     },
     "metadata": {},
     "output_type": "display_data"
    }
   ],
   "source": [
    "from tqdm.notebook import tqdm\n",
    "tqdm.pandas()\n",
    "\n",
    "df['text_processed'] = df['text_clean'].progress_apply(preprocess_text_spacy)"
   ]
  },
  {
   "cell_type": "code",
   "execution_count": 43,
   "id": "f447180c",
   "metadata": {
    "id": "f447180c",
    "outputId": "5f048199-0dc1-4e92-8fb5-78a9a763b9b6"
   },
   "outputs": [
    {
     "name": "stdout",
     "output_type": "stream",
     "text": [
      " Toutes les étapes principales du EDA sont validées avec succès ! \n"
     ]
    }
   ],
   "source": [
    "# Calcul de la longueur des textes\n",
    "df['text_length'] = df['text'].apply(lambda x: len(str(x).split()))\n",
    "\n",
    "assert 'text' in df.columns, \"Colonne 'text' manquante.\"\n",
    "assert 'humor' in df.columns, \" Colonne 'humor' manquante.\"\n",
    "assert pd.api.types.is_bool_dtype(df['humor']), \"Colonne 'humor' n'est pas booléenne.\"\n",
    "assert 'text_clean' in df.columns, \"Colonne 'text_clean' manquante.\"\n",
    "assert df['text_clean'].str.len().gt(0).all(), \"Certaines lignes de 'text_clean' sont vides.\"\n",
    "assert 'text_length' in df.columns, \"Colonne 'text_length' manquante.\"\n",
    "assert df['text_length'].gt(0).all(), \"Certaines longueurs de texte sont nulles.\"\n",
    "\n",
    "print(\" Toutes les étapes principales du EDA sont validées avec succès ! \")"
   ]
  },
  {
   "cell_type": "code",
   "execution_count": 44,
   "id": "fcd3cf6f",
   "metadata": {
    "id": "fcd3cf6f",
    "outputId": "4c628643-24fe-4db2-c414-b59f5cae3dbe"
   },
   "outputs": [
    {
     "name": "stdout",
     "output_type": "stream",
     "text": [
      " Dataset nettoyé sauvegardé dans : data/clean_dataset.csv\n"
     ]
    }
   ],
   "source": [
    "# Sauvegarde du dataset nettoyé\n",
    "output_path = \"data/clean_dataset.csv\"\n",
    "df.to_csv(output_path, index=False)\n",
    "\n",
    "print(f\" Dataset nettoyé sauvegardé dans : {output_path}\")"
   ]
  }
 ],
 "metadata": {
  "colab": {
   "provenance": []
  },
  "kernelspec": {
   "display_name": "NLP_env",
   "language": "python",
   "name": "python3"
  },
  "language_info": {
   "codemirror_mode": {
    "name": "ipython",
    "version": 3
   },
   "file_extension": ".py",
   "mimetype": "text/x-python",
   "name": "python",
   "nbconvert_exporter": "python",
   "pygments_lexer": "ipython3",
   "version": "3.11.9"
  },
  "widgets": {
   "application/vnd.jupyter.widget-state+json": {
    "170db8bc8f374832b0d406aebf44d4da": {
     "model_module": "@jupyter-widgets/controls",
     "model_module_version": "1.5.0",
     "model_name": "HTMLModel",
     "state": {
      "_dom_classes": [],
      "_model_module": "@jupyter-widgets/controls",
      "_model_module_version": "1.5.0",
      "_model_name": "HTMLModel",
      "_view_count": null,
      "_view_module": "@jupyter-widgets/controls",
      "_view_module_version": "1.5.0",
      "_view_name": "HTMLView",
      "description": "",
      "description_tooltip": null,
      "layout": "IPY_MODEL_94e6be853606479aad1cd32feeed0b70",
      "placeholder": "​",
      "style": "IPY_MODEL_eebdbf209f4e43c5bda552ab1f30377a",
      "value": " 2488/200000 [00:21&lt;24:17, 135.56it/s]"
     }
    },
    "6026c7a8d6c0411b928b38a16825a16a": {
     "model_module": "@jupyter-widgets/controls",
     "model_module_version": "1.5.0",
     "model_name": "HBoxModel",
     "state": {
      "_dom_classes": [],
      "_model_module": "@jupyter-widgets/controls",
      "_model_module_version": "1.5.0",
      "_model_name": "HBoxModel",
      "_view_count": null,
      "_view_module": "@jupyter-widgets/controls",
      "_view_module_version": "1.5.0",
      "_view_name": "HBoxView",
      "box_style": "",
      "children": [
       "IPY_MODEL_7db468980ea54404afc53eb44ea9655d",
       "IPY_MODEL_8a2b311c5d274487969df84aed66268c",
       "IPY_MODEL_170db8bc8f374832b0d406aebf44d4da"
      ],
      "layout": "IPY_MODEL_763ff445a3e04c248eb4a357367c1111"
     }
    },
    "70774986d90c4f76b1921a0bd01b1782": {
     "model_module": "@jupyter-widgets/base",
     "model_module_version": "1.2.0",
     "model_name": "LayoutModel",
     "state": {
      "_model_module": "@jupyter-widgets/base",
      "_model_module_version": "1.2.0",
      "_model_name": "LayoutModel",
      "_view_count": null,
      "_view_module": "@jupyter-widgets/base",
      "_view_module_version": "1.2.0",
      "_view_name": "LayoutView",
      "align_content": null,
      "align_items": null,
      "align_self": null,
      "border": null,
      "bottom": null,
      "display": null,
      "flex": null,
      "flex_flow": null,
      "grid_area": null,
      "grid_auto_columns": null,
      "grid_auto_flow": null,
      "grid_auto_rows": null,
      "grid_column": null,
      "grid_gap": null,
      "grid_row": null,
      "grid_template_areas": null,
      "grid_template_columns": null,
      "grid_template_rows": null,
      "height": null,
      "justify_content": null,
      "justify_items": null,
      "left": null,
      "margin": null,
      "max_height": null,
      "max_width": null,
      "min_height": null,
      "min_width": null,
      "object_fit": null,
      "object_position": null,
      "order": null,
      "overflow": null,
      "overflow_x": null,
      "overflow_y": null,
      "padding": null,
      "right": null,
      "top": null,
      "visibility": null,
      "width": null
     }
    },
    "763ff445a3e04c248eb4a357367c1111": {
     "model_module": "@jupyter-widgets/base",
     "model_module_version": "1.2.0",
     "model_name": "LayoutModel",
     "state": {
      "_model_module": "@jupyter-widgets/base",
      "_model_module_version": "1.2.0",
      "_model_name": "LayoutModel",
      "_view_count": null,
      "_view_module": "@jupyter-widgets/base",
      "_view_module_version": "1.2.0",
      "_view_name": "LayoutView",
      "align_content": null,
      "align_items": null,
      "align_self": null,
      "border": null,
      "bottom": null,
      "display": null,
      "flex": null,
      "flex_flow": null,
      "grid_area": null,
      "grid_auto_columns": null,
      "grid_auto_flow": null,
      "grid_auto_rows": null,
      "grid_column": null,
      "grid_gap": null,
      "grid_row": null,
      "grid_template_areas": null,
      "grid_template_columns": null,
      "grid_template_rows": null,
      "height": null,
      "justify_content": null,
      "justify_items": null,
      "left": null,
      "margin": null,
      "max_height": null,
      "max_width": null,
      "min_height": null,
      "min_width": null,
      "object_fit": null,
      "object_position": null,
      "order": null,
      "overflow": null,
      "overflow_x": null,
      "overflow_y": null,
      "padding": null,
      "right": null,
      "top": null,
      "visibility": null,
      "width": null
     }
    },
    "7db468980ea54404afc53eb44ea9655d": {
     "model_module": "@jupyter-widgets/controls",
     "model_module_version": "1.5.0",
     "model_name": "HTMLModel",
     "state": {
      "_dom_classes": [],
      "_model_module": "@jupyter-widgets/controls",
      "_model_module_version": "1.5.0",
      "_model_name": "HTMLModel",
      "_view_count": null,
      "_view_module": "@jupyter-widgets/controls",
      "_view_module_version": "1.5.0",
      "_view_name": "HTMLView",
      "description": "",
      "description_tooltip": null,
      "layout": "IPY_MODEL_70774986d90c4f76b1921a0bd01b1782",
      "placeholder": "​",
      "style": "IPY_MODEL_f5e2da8581984c0ba98b3cddf73f8060",
      "value": "  1%"
     }
    },
    "8a2b311c5d274487969df84aed66268c": {
     "model_module": "@jupyter-widgets/controls",
     "model_module_version": "1.5.0",
     "model_name": "FloatProgressModel",
     "state": {
      "_dom_classes": [],
      "_model_module": "@jupyter-widgets/controls",
      "_model_module_version": "1.5.0",
      "_model_name": "FloatProgressModel",
      "_view_count": null,
      "_view_module": "@jupyter-widgets/controls",
      "_view_module_version": "1.5.0",
      "_view_name": "ProgressView",
      "bar_style": "",
      "description": "",
      "description_tooltip": null,
      "layout": "IPY_MODEL_e48fa1db2e3e4f0fa6163103eb8c478c",
      "max": 200000,
      "min": 0,
      "orientation": "horizontal",
      "style": "IPY_MODEL_a13aff18d7c34c78bf6b72c843769c54",
      "value": 2488
     }
    },
    "94e6be853606479aad1cd32feeed0b70": {
     "model_module": "@jupyter-widgets/base",
     "model_module_version": "1.2.0",
     "model_name": "LayoutModel",
     "state": {
      "_model_module": "@jupyter-widgets/base",
      "_model_module_version": "1.2.0",
      "_model_name": "LayoutModel",
      "_view_count": null,
      "_view_module": "@jupyter-widgets/base",
      "_view_module_version": "1.2.0",
      "_view_name": "LayoutView",
      "align_content": null,
      "align_items": null,
      "align_self": null,
      "border": null,
      "bottom": null,
      "display": null,
      "flex": null,
      "flex_flow": null,
      "grid_area": null,
      "grid_auto_columns": null,
      "grid_auto_flow": null,
      "grid_auto_rows": null,
      "grid_column": null,
      "grid_gap": null,
      "grid_row": null,
      "grid_template_areas": null,
      "grid_template_columns": null,
      "grid_template_rows": null,
      "height": null,
      "justify_content": null,
      "justify_items": null,
      "left": null,
      "margin": null,
      "max_height": null,
      "max_width": null,
      "min_height": null,
      "min_width": null,
      "object_fit": null,
      "object_position": null,
      "order": null,
      "overflow": null,
      "overflow_x": null,
      "overflow_y": null,
      "padding": null,
      "right": null,
      "top": null,
      "visibility": null,
      "width": null
     }
    },
    "a13aff18d7c34c78bf6b72c843769c54": {
     "model_module": "@jupyter-widgets/controls",
     "model_module_version": "1.5.0",
     "model_name": "ProgressStyleModel",
     "state": {
      "_model_module": "@jupyter-widgets/controls",
      "_model_module_version": "1.5.0",
      "_model_name": "ProgressStyleModel",
      "_view_count": null,
      "_view_module": "@jupyter-widgets/base",
      "_view_module_version": "1.2.0",
      "_view_name": "StyleView",
      "bar_color": null,
      "description_width": ""
     }
    },
    "e48fa1db2e3e4f0fa6163103eb8c478c": {
     "model_module": "@jupyter-widgets/base",
     "model_module_version": "1.2.0",
     "model_name": "LayoutModel",
     "state": {
      "_model_module": "@jupyter-widgets/base",
      "_model_module_version": "1.2.0",
      "_model_name": "LayoutModel",
      "_view_count": null,
      "_view_module": "@jupyter-widgets/base",
      "_view_module_version": "1.2.0",
      "_view_name": "LayoutView",
      "align_content": null,
      "align_items": null,
      "align_self": null,
      "border": null,
      "bottom": null,
      "display": null,
      "flex": null,
      "flex_flow": null,
      "grid_area": null,
      "grid_auto_columns": null,
      "grid_auto_flow": null,
      "grid_auto_rows": null,
      "grid_column": null,
      "grid_gap": null,
      "grid_row": null,
      "grid_template_areas": null,
      "grid_template_columns": null,
      "grid_template_rows": null,
      "height": null,
      "justify_content": null,
      "justify_items": null,
      "left": null,
      "margin": null,
      "max_height": null,
      "max_width": null,
      "min_height": null,
      "min_width": null,
      "object_fit": null,
      "object_position": null,
      "order": null,
      "overflow": null,
      "overflow_x": null,
      "overflow_y": null,
      "padding": null,
      "right": null,
      "top": null,
      "visibility": null,
      "width": null
     }
    },
    "eebdbf209f4e43c5bda552ab1f30377a": {
     "model_module": "@jupyter-widgets/controls",
     "model_module_version": "1.5.0",
     "model_name": "DescriptionStyleModel",
     "state": {
      "_model_module": "@jupyter-widgets/controls",
      "_model_module_version": "1.5.0",
      "_model_name": "DescriptionStyleModel",
      "_view_count": null,
      "_view_module": "@jupyter-widgets/base",
      "_view_module_version": "1.2.0",
      "_view_name": "StyleView",
      "description_width": ""
     }
    },
    "f5e2da8581984c0ba98b3cddf73f8060": {
     "model_module": "@jupyter-widgets/controls",
     "model_module_version": "1.5.0",
     "model_name": "DescriptionStyleModel",
     "state": {
      "_model_module": "@jupyter-widgets/controls",
      "_model_module_version": "1.5.0",
      "_model_name": "DescriptionStyleModel",
      "_view_count": null,
      "_view_module": "@jupyter-widgets/base",
      "_view_module_version": "1.2.0",
      "_view_name": "StyleView",
      "description_width": ""
     }
    }
   }
  }
 },
 "nbformat": 4,
 "nbformat_minor": 5
}
