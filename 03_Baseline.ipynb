{
 "cells": [
  {
   "cell_type": "markdown",
   "id": "r7OU8nK3ve4L",
   "metadata": {
    "id": "r7OU8nK3ve4L"
   },
   "source": [
    "# Baseline"
   ]
  },
  {
   "cell_type": "code",
   "execution_count": null,
   "id": "c914eb38",
   "metadata": {},
   "outputs": [],
   "source": [
    "import pandas as pd\n",
    "from sklearn.feature_extraction.text import TfidfVectorizer\n",
    "from sklearn.model_selection import train_test_split\n",
    "from sklearn.linear_model import LogisticRegression\n",
    "from sklearn.metrics import classification_report, confusion_matrix, ConfusionMatrixDisplay\n",
    "import matplotlib.pyplot as plt"
   ]
  },
  {
   "cell_type": "code",
   "execution_count": null,
   "id": "3b3dee00",
   "metadata": {},
   "outputs": [],
   "source": [
    "# Chargement du dataset nettoyé\n",
    "df = pd.read_csv(\"data/clean_dataset.csv\")"
   ]
  },
  {
   "cell_type": "code",
   "execution_count": null,
   "id": "e7e66e0a",
   "metadata": {},
   "outputs": [],
   "source": [
    "# Suppression des lignes avec des textes vides ou NaN\n",
    "df = df.dropna(subset=['text_processed'])\n",
    "df = df[df['text_processed'].str.strip().astype(bool)]"
   ]
  },
  {
   "cell_type": "code",
   "execution_count": null,
   "id": "42811628",
   "metadata": {},
   "outputs": [],
   "source": [
    "# Séparation des features et de la target\n",
    "X = df['text_processed']\n",
    "y = df['humor']"
   ]
  },
  {
   "cell_type": "code",
   "execution_count": null,
   "id": "430480c4",
   "metadata": {},
   "outputs": [],
   "source": [
    "# Vectorisation TF-IDF\n",
    "vectorizer = TfidfVectorizer(max_features=5000)\n",
    "X_tfidf = vectorizer.fit_transform(X)"
   ]
  },
  {
   "cell_type": "code",
   "execution_count": null,
   "id": "91bd2532",
   "metadata": {},
   "outputs": [],
   "source": [
    "# Split train/test\n",
    "X_train, X_test, y_train, y_test = train_test_split(\n",
    "    X_tfidf, y, test_size=0.2, random_state=42, stratify=y\n",
    ")"
   ]
  },
  {
   "cell_type": "code",
   "execution_count": null,
   "id": "0208ab5f",
   "metadata": {},
   "outputs": [],
   "source": [
    "from tqdm.notebook import tqdm\n",
    "from sklearn.linear_model import SGDClassifier\n",
    "\n",
    "tqdm.pandas()\n",
    "\n",
    "model = SGDClassifier(loss=\"log_loss\", max_iter=1, warm_start=True)\n",
    "\n",
    "n_epochs = 20\n",
    "for epoch in tqdm(range(n_epochs), desc=\"Entraînement du modèle\"):\n",
    "    model.fit(X_train, y_train)"
   ]
  },
  {
   "cell_type": "code",
   "execution_count": null,
   "id": "bf571d4e",
   "metadata": {},
   "outputs": [],
   "source": [
    "# Prédictions\n",
    "y_pred = model.predict(X_test)"
   ]
  },
  {
   "cell_type": "code",
   "execution_count": null,
   "id": "fe0790cf",
   "metadata": {},
   "outputs": [],
   "source": [
    "# Évaluation du modèle\n",
    "print(\" Rapport de classification :\")\n",
    "print(classification_report(y_test, y_pred))\n",
    "\n",
    "# Matrice de confusion\n",
    "cm = confusion_matrix(y_test, y_pred)\n",
    "disp = ConfusionMatrixDisplay(confusion_matrix=cm, display_labels=[\"Non-humoristique\", \"Humoristique\"])\n",
    "disp.plot(cmap=\"Blues\")\n",
    "plt.title(\"Matrice de confusion - Logistic Regression\")\n",
    "plt.show()"
   ]
  },
  {
   "cell_type": "code",
   "execution_count": null,
   "id": "17556c6a",
   "metadata": {},
   "outputs": [],
   "source": [
    "import joblib\n",
    "from pathlib import Path\n",
    "\n",
    "vectorizer_name = \"tfidf5000\"\n",
    "f1_score = \"86\"\n",
    "\n",
    "model_dir = Path(f\"models/logistic_regression\")\n",
    "vectorizer_dir = Path(f\"vectorizers/tfidf\")\n",
    "model_dir.mkdir(parents=True, exist_ok=True)\n",
    "vectorizer_dir.mkdir(parents=True, exist_ok=True)\n",
    "\n",
    "model_path = model_dir / f\"logistic_regression_{vectorizer_name}_f1_{f1_score}_model.joblib\"\n",
    "vectorizer_path = vectorizer_dir / f\"{vectorizer_name}_vectorizer.joblib\"\n",
    "\n",
    "joblib.dump(model, model_path)\n",
    "joblib.dump(vectorizer, vectorizer_path)\n",
    "\n",
    "\n",
    "print(f\"Modèle sauvegardé dans : {model_path}\")\n",
    "print(f\"Vectoriseur sauvegardé dans : {vectorizer_path}\")"
   ]
  }
 ],
 "metadata": {
  "language_info": {
   "name": "python"
  }
 },
 "nbformat": 4,
 "nbformat_minor": 5
}
