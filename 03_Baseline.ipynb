{
 "cells": [
  {
   "cell_type": "code",
   "execution_count": 1,
   "id": "c914eb38",
   "metadata": {},
   "outputs": [],
   "source": [
    "# 1. 📥 Import des librairies\n",
    "import pandas as pd\n",
    "from sklearn.feature_extraction.text import TfidfVectorizer\n",
    "from sklearn.model_selection import train_test_split\n",
    "from sklearn.linear_model import LogisticRegression\n",
    "from sklearn.metrics import classification_report, confusion_matrix, ConfusionMatrixDisplay\n",
    "import matplotlib.pyplot as plt"
   ]
  },
  {
   "cell_type": "code",
   "execution_count": 2,
   "id": "3b3dee00",
   "metadata": {},
   "outputs": [],
   "source": [
    "\n",
    "# 2. 📄 Chargement du dataset nettoyé\n",
    "df = pd.read_csv(\"data/clean_dataset.csv\")"
   ]
  },
  {
   "cell_type": "code",
   "execution_count": 5,
   "id": "e7e66e0a",
   "metadata": {},
   "outputs": [],
   "source": [
    "# Supprimer les lignes avec des textes vides ou NaN\n",
    "df = df.dropna(subset=['text_processed'])\n",
    "df = df[df['text_processed'].str.strip().astype(bool)]\n"
   ]
  },
  {
   "cell_type": "code",
   "execution_count": 6,
   "id": "42811628",
   "metadata": {},
   "outputs": [],
   "source": [
    "# 3. 🎯 Séparation des features et de la cible\n",
    "X = df['text_processed']\n",
    "y = df['humor']"
   ]
  },
  {
   "cell_type": "code",
   "execution_count": 8,
   "id": "430480c4",
   "metadata": {},
   "outputs": [],
   "source": [
    "# 5. 🧠 Vectorisation TF-IDF\n",
    "vectorizer = TfidfVectorizer(max_features=5000)\n",
    "X_tfidf = vectorizer.fit_transform(X)"
   ]
  },
  {
   "cell_type": "code",
   "execution_count": 9,
   "id": "91bd2532",
   "metadata": {},
   "outputs": [],
   "source": [
    "# 6. 🔀 Split train/test\n",
    "X_train, X_test, y_train, y_test = train_test_split(\n",
    "    X_tfidf, y, test_size=0.2, random_state=42, stratify=y\n",
    ")\n"
   ]
  },
  {
   "cell_type": "code",
   "execution_count": 10,
   "id": "0208ab5f",
   "metadata": {},
   "outputs": [
    {
     "data": {
      "application/vnd.jupyter.widget-view+json": {
       "model_id": "96d68f8e018a48f584fecc6adc4bfefb",
       "version_major": 2,
       "version_minor": 0
      },
      "text/plain": [
       "Entraînement du modèle:   0%|          | 0/20 [00:00<?, ?it/s]"
      ]
     },
     "metadata": {},
     "output_type": "display_data"
    },
    {
     "name": "stderr",
     "output_type": "stream",
     "text": [
      "c:\\Users\\HellaBOUHADDA\\Downloads\\NLP\\NLP_env\\Lib\\site-packages\\sklearn\\linear_model\\_stochastic_gradient.py:738: ConvergenceWarning: Maximum number of iteration reached before convergence. Consider increasing max_iter to improve the fit.\n",
      "  warnings.warn(\n",
      "c:\\Users\\HellaBOUHADDA\\Downloads\\NLP\\NLP_env\\Lib\\site-packages\\sklearn\\linear_model\\_stochastic_gradient.py:738: ConvergenceWarning: Maximum number of iteration reached before convergence. Consider increasing max_iter to improve the fit.\n",
      "  warnings.warn(\n",
      "c:\\Users\\HellaBOUHADDA\\Downloads\\NLP\\NLP_env\\Lib\\site-packages\\sklearn\\linear_model\\_stochastic_gradient.py:738: ConvergenceWarning: Maximum number of iteration reached before convergence. Consider increasing max_iter to improve the fit.\n",
      "  warnings.warn(\n",
      "c:\\Users\\HellaBOUHADDA\\Downloads\\NLP\\NLP_env\\Lib\\site-packages\\sklearn\\linear_model\\_stochastic_gradient.py:738: ConvergenceWarning: Maximum number of iteration reached before convergence. Consider increasing max_iter to improve the fit.\n",
      "  warnings.warn(\n",
      "c:\\Users\\HellaBOUHADDA\\Downloads\\NLP\\NLP_env\\Lib\\site-packages\\sklearn\\linear_model\\_stochastic_gradient.py:738: ConvergenceWarning: Maximum number of iteration reached before convergence. Consider increasing max_iter to improve the fit.\n",
      "  warnings.warn(\n",
      "c:\\Users\\HellaBOUHADDA\\Downloads\\NLP\\NLP_env\\Lib\\site-packages\\sklearn\\linear_model\\_stochastic_gradient.py:738: ConvergenceWarning: Maximum number of iteration reached before convergence. Consider increasing max_iter to improve the fit.\n",
      "  warnings.warn(\n",
      "c:\\Users\\HellaBOUHADDA\\Downloads\\NLP\\NLP_env\\Lib\\site-packages\\sklearn\\linear_model\\_stochastic_gradient.py:738: ConvergenceWarning: Maximum number of iteration reached before convergence. Consider increasing max_iter to improve the fit.\n",
      "  warnings.warn(\n",
      "c:\\Users\\HellaBOUHADDA\\Downloads\\NLP\\NLP_env\\Lib\\site-packages\\sklearn\\linear_model\\_stochastic_gradient.py:738: ConvergenceWarning: Maximum number of iteration reached before convergence. Consider increasing max_iter to improve the fit.\n",
      "  warnings.warn(\n",
      "c:\\Users\\HellaBOUHADDA\\Downloads\\NLP\\NLP_env\\Lib\\site-packages\\sklearn\\linear_model\\_stochastic_gradient.py:738: ConvergenceWarning: Maximum number of iteration reached before convergence. Consider increasing max_iter to improve the fit.\n",
      "  warnings.warn(\n",
      "c:\\Users\\HellaBOUHADDA\\Downloads\\NLP\\NLP_env\\Lib\\site-packages\\sklearn\\linear_model\\_stochastic_gradient.py:738: ConvergenceWarning: Maximum number of iteration reached before convergence. Consider increasing max_iter to improve the fit.\n",
      "  warnings.warn(\n",
      "c:\\Users\\HellaBOUHADDA\\Downloads\\NLP\\NLP_env\\Lib\\site-packages\\sklearn\\linear_model\\_stochastic_gradient.py:738: ConvergenceWarning: Maximum number of iteration reached before convergence. Consider increasing max_iter to improve the fit.\n",
      "  warnings.warn(\n",
      "c:\\Users\\HellaBOUHADDA\\Downloads\\NLP\\NLP_env\\Lib\\site-packages\\sklearn\\linear_model\\_stochastic_gradient.py:738: ConvergenceWarning: Maximum number of iteration reached before convergence. Consider increasing max_iter to improve the fit.\n",
      "  warnings.warn(\n",
      "c:\\Users\\HellaBOUHADDA\\Downloads\\NLP\\NLP_env\\Lib\\site-packages\\sklearn\\linear_model\\_stochastic_gradient.py:738: ConvergenceWarning: Maximum number of iteration reached before convergence. Consider increasing max_iter to improve the fit.\n",
      "  warnings.warn(\n",
      "c:\\Users\\HellaBOUHADDA\\Downloads\\NLP\\NLP_env\\Lib\\site-packages\\sklearn\\linear_model\\_stochastic_gradient.py:738: ConvergenceWarning: Maximum number of iteration reached before convergence. Consider increasing max_iter to improve the fit.\n",
      "  warnings.warn(\n",
      "c:\\Users\\HellaBOUHADDA\\Downloads\\NLP\\NLP_env\\Lib\\site-packages\\sklearn\\linear_model\\_stochastic_gradient.py:738: ConvergenceWarning: Maximum number of iteration reached before convergence. Consider increasing max_iter to improve the fit.\n",
      "  warnings.warn(\n",
      "c:\\Users\\HellaBOUHADDA\\Downloads\\NLP\\NLP_env\\Lib\\site-packages\\sklearn\\linear_model\\_stochastic_gradient.py:738: ConvergenceWarning: Maximum number of iteration reached before convergence. Consider increasing max_iter to improve the fit.\n",
      "  warnings.warn(\n",
      "c:\\Users\\HellaBOUHADDA\\Downloads\\NLP\\NLP_env\\Lib\\site-packages\\sklearn\\linear_model\\_stochastic_gradient.py:738: ConvergenceWarning: Maximum number of iteration reached before convergence. Consider increasing max_iter to improve the fit.\n",
      "  warnings.warn(\n",
      "c:\\Users\\HellaBOUHADDA\\Downloads\\NLP\\NLP_env\\Lib\\site-packages\\sklearn\\linear_model\\_stochastic_gradient.py:738: ConvergenceWarning: Maximum number of iteration reached before convergence. Consider increasing max_iter to improve the fit.\n",
      "  warnings.warn(\n",
      "c:\\Users\\HellaBOUHADDA\\Downloads\\NLP\\NLP_env\\Lib\\site-packages\\sklearn\\linear_model\\_stochastic_gradient.py:738: ConvergenceWarning: Maximum number of iteration reached before convergence. Consider increasing max_iter to improve the fit.\n",
      "  warnings.warn(\n",
      "c:\\Users\\HellaBOUHADDA\\Downloads\\NLP\\NLP_env\\Lib\\site-packages\\sklearn\\linear_model\\_stochastic_gradient.py:738: ConvergenceWarning: Maximum number of iteration reached before convergence. Consider increasing max_iter to improve the fit.\n",
      "  warnings.warn(\n"
     ]
    }
   ],
   "source": [
    "from tqdm.notebook import tqdm\n",
    "from sklearn.linear_model import SGDClassifier\n",
    "\n",
    "# Activation de la barre de progression pour l'entraînement manuel\n",
    "tqdm.pandas()\n",
    "\n",
    "# ⚠️ LogisticRegression ne supporte pas la progression nativement,\n",
    "# on utilise un SGDClassifier pour montrer la progression par itérations :\n",
    "model = SGDClassifier(loss=\"log_loss\", max_iter=1, warm_start=True)\n",
    "\n",
    "n_epochs = 20\n",
    "for epoch in tqdm(range(n_epochs), desc=\"Entraînement du modèle\"):\n",
    "    model.fit(X_train, y_train)\n"
   ]
  },
  {
   "cell_type": "code",
   "execution_count": 11,
   "id": "bf571d4e",
   "metadata": {},
   "outputs": [],
   "source": [
    "# 8. 🔎 Prédictions\n",
    "y_pred = model.predict(X_test)"
   ]
  },
  {
   "cell_type": "code",
   "execution_count": 12,
   "id": "fe0790cf",
   "metadata": {},
   "outputs": [
    {
     "name": "stdout",
     "output_type": "stream",
     "text": [
      "📊 Rapport de classification :\n",
      "              precision    recall  f1-score   support\n",
      "\n",
      "       False       0.85      0.87      0.86     19999\n",
      "        True       0.86      0.85      0.86     20000\n",
      "\n",
      "    accuracy                           0.86     39999\n",
      "   macro avg       0.86      0.86      0.86     39999\n",
      "weighted avg       0.86      0.86      0.86     39999\n",
      "\n"
     ]
    },
    {
     "data": {
      "image/png": "[encoded data removed]",
      "text/plain": [
       "<Figure size 640x480 with 2 Axes>"
      ]
     },
     "metadata": {},
     "output_type": "display_data"
    }
   ],
   "source": [
    "# 9. 📊 Évaluation du modèle\n",
    "print(\"📊 Rapport de classification :\")\n",
    "print(classification_report(y_test, y_pred))\n",
    "\n",
    "# 10. 📉 Matrice de confusion\n",
    "cm = confusion_matrix(y_test, y_pred)\n",
    "disp = ConfusionMatrixDisplay(confusion_matrix=cm, display_labels=[\"Non-humoristique\", \"Humoristique\"])\n",
    "disp.plot(cmap=\"Blues\")\n",
    "plt.title(\"Matrice de confusion - Logistic Regression\")\n",
    "plt.show()"
   ]
  },
  {
   "cell_type": "code",
   "execution_count": 16,
   "id": "17556c6a",
   "metadata": {},
   "outputs": [
    {
     "name": "stdout",
     "output_type": "stream",
     "text": [
      "✅ Modèle sauvegardé dans : models\\logistic_regression\\logistic_regression_tfidf5000_f1_86_model.joblib\n",
      "✅ Vectoriseur sauvegardé dans : vectorizers\\tfidf\\tfidf5000_vectorizer.joblib\n"
     ]
    }
   ],
   "source": [
    "import joblib\n",
    "from pathlib import Path\n",
    "\n",
    "# Définir les noms dynamiquement\n",
    "vectorizer_name = \"tfidf5000\"\n",
    "f1_score = \"86\"\n",
    "\n",
    "# Créer les dossiers\n",
    "model_dir = Path(f\"models/logistic_regression\")\n",
    "vectorizer_dir = Path(f\"vectorizers/tfidf\")\n",
    "model_dir.mkdir(parents=True, exist_ok=True)\n",
    "vectorizer_dir.mkdir(parents=True, exist_ok=True)\n",
    "\n",
    "# Définir les chemins de fichier\n",
    "model_path = model_dir / f\"logistic_regression_{vectorizer_name}_f1_{f1_score}_model.joblib\"\n",
    "vectorizer_path = vectorizer_dir / f\"{vectorizer_name}_vectorizer.joblib\"\n",
    "\n",
    "# Sauvegardes\n",
    "joblib.dump(model, model_path)\n",
    "joblib.dump(vectorizer, vectorizer_path)\n",
    "\n",
    "print(f\"✅ Modèle sauvegardé dans : {model_path}\")\n",
    "print(f\"✅ Vectoriseur sauvegardé dans : {vectorizer_path}\")\n"
   ]
  },
  {
   "cell_type": "code",
   "execution_count": null,
   "id": "d77546a8",
   "metadata": {},
   "outputs": [],
   "source": []
  }
 ],
 "metadata": {
  "kernelspec": {
   "display_name": "NLP_env",
   "language": "python",
   "name": "python3"
  },
  "language_info": {
   "codemirror_mode": {
    "name": "ipython",
    "version": 3
   },
   "file_extension": ".py",
   "mimetype": "text/x-python",
   "name": "python",
   "nbconvert_exporter": "python",
   "pygments_lexer": "ipython3",
   "version": "3.11.9"
  }
 },
 "nbformat": 4,
 "nbformat_minor": 5
}
